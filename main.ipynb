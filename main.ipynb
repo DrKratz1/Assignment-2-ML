{
 "cells": [
  {
   "cell_type": "markdown",
   "id": "a40f401c",
   "metadata": {},
   "source": [
    "Data Preprocessing"
   ]
  },
  {
   "cell_type": "code",
   "execution_count": 3,
   "id": "ec5d09ba",
   "metadata": {},
   "outputs": [],
   "source": [
    "import pandas as pd\n",
    "import numpy as np\n",
    "import matplotlib.pyplot as plt"
   ]
  },
  {
   "cell_type": "code",
   "execution_count": null,
   "id": "182f249d",
   "metadata": {},
   "outputs": [
    {
     "name": "stdout",
     "output_type": "stream",
     "text": [
      "image_path      0\n",
      "edge_density    0\n",
      "mean_b          0\n",
      "mean_g          0\n",
      "mean_r          0\n",
      "dtype: int64\n",
      "image_path    0\n",
      "ch_0          0\n",
      "ch_1          0\n",
      "ch_2          0\n",
      "ch_3          0\n",
      "             ..\n",
      "ch_91         0\n",
      "ch_92         0\n",
      "ch_93         0\n",
      "ch_94         0\n",
      "ch_95         0\n",
      "Length: 97, dtype: int64\n",
      "image_path    0\n",
      "hog_pca_0     0\n",
      "hog_pca_1     0\n",
      "hog_pca_2     0\n",
      "hog_pca_3     0\n",
      "hog_pca_4     0\n",
      "hog_pca_5     0\n",
      "hog_pca_6     0\n",
      "hog_pca_7     0\n",
      "hog_pca_8     0\n",
      "hog_pca_9     0\n",
      "hog_pca_10    0\n",
      "hog_pca_11    0\n",
      "hog_pca_12    0\n",
      "hog_pca_13    0\n",
      "hog_pca_14    0\n",
      "hog_pca_15    0\n",
      "hog_pca_16    0\n",
      "hog_pca_17    0\n",
      "hog_pca_18    0\n",
      "hog_pca_19    0\n",
      "dtype: int64\n"
     ]
    }
   ],
   "source": [
    "additional = pd.read_csv('test/Features/additional_features.csv')\n",
    "color = pd.read_csv('test/Features/color_histogram.csv')\n",
    "hog = pd.read_csv('test/Features/hog_pca.csv')\n",
    "\n"
   ]
  }
 ],
 "metadata": {
  "kernelspec": {
   "display_name": "Python 3",
   "language": "python",
   "name": "python3"
  },
  "language_info": {
   "codemirror_mode": {
    "name": "ipython",
    "version": 3
   },
   "file_extension": ".py",
   "mimetype": "text/x-python",
   "name": "python",
   "nbconvert_exporter": "python",
   "pygments_lexer": "ipython3",
   "version": "3.12.2"
  }
 },
 "nbformat": 4,
 "nbformat_minor": 5
}
